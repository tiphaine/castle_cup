{
 "cells": [
  {
   "cell_type": "code",
   "execution_count": 1,
   "metadata": {
    "collapsed": true
   },
   "outputs": [],
   "source": [
    "from math import floor\n",
    "from random import randint, choice, sample\n",
    "from collections import defaultdict, Counter\n",
    "from pprint import pprint\n",
    "from copy import deepcopy\n",
    "import numpy as np"
   ]
  },
  {
   "cell_type": "markdown",
   "metadata": {},
   "source": [
    "# Castle Cup sorting hat"
   ]
  },
  {
   "cell_type": "code",
   "execution_count": 2,
   "metadata": {
    "collapsed": true
   },
   "outputs": [],
   "source": [
    "tiers = {\n",
    "    'T1': ['Bassomax', 'Jerem', 'Darb', 'Bamaniko', 'Yann', 'Kayou', 'Paxx', 'Malak'],\n",
    "    'T2': ['Benigum', 'Sergio', 'Elsa', 'Jimmy', 'Lucas', 'Charles', 'PierreMzg'],\n",
    "    'T3': ['Maria', 'Jay']\n",
    "}\n",
    "\n",
    "grade_values = {\n",
    "    'T1': 3,\n",
    "    'T2': 2,\n",
    "    'T3': 1\n",
    "}"
   ]
  },
  {
   "cell_type": "code",
   "execution_count": 3,
   "metadata": {
    "collapsed": false
   },
   "outputs": [],
   "source": [
    "def everybody(tiers):\n",
    "    peoples = []\n",
    "    for key, people in tiers.items():\n",
    "        peoples.extend(people)\n",
    "    return peoples    "
   ]
  },
  {
   "cell_type": "code",
   "execution_count": 4,
   "metadata": {
    "collapsed": true
   },
   "outputs": [],
   "source": [
    "def time_taken(tiers, team_size, match_duration, delays=5):\n",
    "    people = everybody(tiers)\n",
    "    number_teams = floor(len(people) / team_size)\n",
    "    cumulated_time = number_teams * (number_teams - 1) * (match_duration + delays)\n",
    "    hours = cumulated_time // 60\n",
    "    minutes = cumulated_time - hours * 60\n",
    "    print('Expected duration: {} minutes or {}h{:02d}.'.format(cumulated_time, hours, minutes))\n",
    "    return cumulated_time"
   ]
  },
  {
   "cell_type": "code",
   "execution_count": 5,
   "metadata": {
    "collapsed": false
   },
   "outputs": [],
   "source": [
    "def sorting_hat(tiers, team_size=4, joker_tier='T1', grading=True):\n",
    "    tiers_cp = deepcopy(tiers)\n",
    "    rules_ok = False\n",
    "    people = everybody(tiers)\n",
    "    number_teams = floor(len(people) / team_size)\n",
    "    jokers = 0\n",
    "    teams = defaultdict(list)\n",
    "    print('There will be {} persons in {} teams.'.format(number_teams, team_size))\n",
    "    if len(people) % team_size != 0:\n",
    "        jokers = len(people) - (number_teams * team_size)\n",
    "        print('And {} as joker(s).\\n'.format(jokers))\n",
    "    if jokers:\n",
    "        team_members = sample(tiers_cp[joker_tier], jokers)\n",
    "        print('Joker(s): {}'.format(', '.join(team_members)))\n",
    "        for joker in team_members:\n",
    "            tiers_cp[joker_tier].pop(tiers_cp[joker_tier].index(joker))\n",
    "        print()\n",
    "    while rules_ok is not True:\n",
    "        compositions, grades = get_composition(tiers_cp, number_teams, team_size)\n",
    "        rules_ok = check_rules(compositions)\n",
    "    for team, tier_composition in compositions.items():\n",
    "        for tier_member in tier_composition:\n",
    "            team_member = choice(tiers_cp[tier_member])\n",
    "            print('Team {}  : '.format(team +1), team_member)\n",
    "            tiers_cp[tier_member].pop(tiers_cp[tier_member].index(team_member))\n",
    "        if grading:\n",
    "            print('Team {} ({:.2f})'.format(team +1, grades[team]))\n",
    "        print()\n",
    "    \n",
    "def get_composition(tiers, number_teams, team_size):\n",
    "    availables = []\n",
    "    grades = {}\n",
    "    for tier, tier_member in tiers.items():\n",
    "        availables.extend([tier for i in range(len(tier_member))])\n",
    "    compositions = defaultdict(list)\n",
    "    for team in range(number_teams):\n",
    "        team_tier = sample(availables, team_size)\n",
    "        for used_tier in team_tier:\n",
    "            availables.pop(availables.index(used_tier))\n",
    "        compositions[team].extend(team_tier)\n",
    "    for team, composition in compositions.items():\n",
    "        grades[team] = np.mean([grade_values[tier] for tier in composition])\n",
    "    return compositions, grades\n",
    "\n",
    "\n",
    "def check_rules(compositions):\n",
    "    for team_id, team_composition in compositions.items():\n",
    "        composition_count = Counter(team_composition)\n",
    "        if composition_count['T1'] > 2:\n",
    "            return False\n",
    "        if composition_count['T2'] > 2:\n",
    "            return False\n",
    "        if composition_count['T3'] > 1:\n",
    "            return False\n",
    "    return True\n",
    "        "
   ]
  },
  {
   "cell_type": "markdown",
   "metadata": {},
   "source": [
    "# Let's do this !"
   ]
  },
  {
   "cell_type": "code",
   "execution_count": 17,
   "metadata": {
    "collapsed": true
   },
   "outputs": [],
   "source": [
    "def lets_go(tiers=tiers, team_size=4, match_duration=10, delays=5, year=2016):\n",
    "    print('Let the CASTLE CUP {} begin!\\n\\n'.format(year).upper())\n",
    "    print('There are {} people in the sorting hat!'.format(len(everybody(tiers))))\n",
    "    print('='*50)\n",
    "    time_taken(tiers, team_size, match_duration, delays)\n",
    "    print('='*50)\n",
    "    sorting_hat(tiers, team_size)"
   ]
  },
  {
   "cell_type": "code",
   "execution_count": 16,
   "metadata": {
    "collapsed": false
   },
   "outputs": [
    {
     "name": "stdout",
     "output_type": "stream",
     "text": [
      "LET THE CASTLE CUP 2016 BEGIN!\n",
      "\n",
      "\n",
      "==================================================\n",
      "There are 17 people in the sorting hat!\n",
      "==================================================\n",
      "Expected duration: 180 minutes or 3h00.\n",
      "==================================================\n",
      "There will be 4 persons in 4 teams.\n",
      "And 1 as joker(s).\n",
      "\n",
      "Joker(s): Jerem\n",
      "\n",
      "Team 1  :  Yann\n",
      "Team 1  :  Darb\n",
      "Team 1  :  Sergio\n",
      "Team 1  :  Charles\n",
      "Team 1 (2.50)\n",
      "\n",
      "Team 2  :  Jay\n",
      "Team 2  :  Lucas\n",
      "Team 2  :  Kayou\n",
      "Team 2  :  Elsa\n",
      "Team 2 (2.00)\n",
      "\n",
      "Team 3  :  PierreMzg\n",
      "Team 3  :  Bassomax\n",
      "Team 3  :  Bamaniko\n",
      "Team 3  :  Jimmy\n",
      "Team 3 (2.50)\n",
      "\n",
      "Team 4  :  Malak\n",
      "Team 4  :  Paxx\n",
      "Team 4  :  Benigum\n",
      "Team 4  :  Maria\n",
      "Team 4 (2.25)\n",
      "\n"
     ]
    }
   ],
   "source": [
    "team_size = 4\n",
    "match_duration = 10\n",
    "delays = 5\n",
    "year = 2016\n",
    "\n",
    "lets_go(team_size=team_size, match_duration=match_duration, delays=delays, year=year)"
   ]
  },
  {
   "cell_type": "code",
   "execution_count": null,
   "metadata": {
    "collapsed": true
   },
   "outputs": [],
   "source": []
  }
 ],
 "metadata": {
  "kernelspec": {
   "display_name": "Python 3",
   "language": "python",
   "name": "python3"
  },
  "language_info": {
   "codemirror_mode": {
    "name": "ipython",
    "version": 3
   },
   "file_extension": ".py",
   "mimetype": "text/x-python",
   "name": "python",
   "nbconvert_exporter": "python",
   "pygments_lexer": "ipython3",
   "version": "3.5.2"
  }
 },
 "nbformat": 4,
 "nbformat_minor": 1
}
